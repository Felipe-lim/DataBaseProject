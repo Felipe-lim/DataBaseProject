{
 "cells": [
  {
   "cell_type": "code",
   "execution_count": 1,
   "metadata": {},
   "outputs": [
    {
     "name": "stdout",
     "output_type": "stream",
     "text": [
      "postgres\n",
      "felipelima\n",
      "localhost\n",
      "5432\n",
      "clorofila_data\n"
     ]
    }
   ],
   "source": [
    "from dotenv import load_dotenv\n",
    "import os\n",
    "\n",
    "load_dotenv()\n",
    "\n",
    "# Verifique as variáveis de ambiente\n",
    "print(os.getenv('DB_USER'))\n",
    "print(os.getenv('DB_PASSWORD'))\n",
    "print(os.getenv('DB_HOST'))\n",
    "print(os.getenv('DB_PORT'))\n",
    "print(os.getenv('DB_NAME'))\n",
    "\n",
    "DATABASE_URL = f\"postgresql+psycopg2://{os.getenv('DB_USER')}:{os.getenv('DB_PASSWORD')}@{os.getenv('DB_HOST')}:{os.getenv('DB_PORT')}/{os.getenv('DB_NAME')}\""
   ]
  },
  {
   "cell_type": "code",
   "execution_count": 1,
   "metadata": {},
   "outputs": [
    {
     "name": "stdout",
     "output_type": "stream",
     "text": [
      "Conexão bem-sucedida!\n"
     ]
    }
   ],
   "source": [
    "import psycopg2\n",
    "\n",
    "try:\n",
    "    conn = psycopg2.connect(\n",
    "        dbname='clorofila_data',\n",
    "        user='postgres',\n",
    "        password='felipelima',\n",
    "        host='localhost',\n",
    "        port='5432',\n",
    "        options=\"-c client_encoding=UTF8\"\n",
    "    )\n",
    "    print(\"Conexão bem-sucedida!\")\n",
    "    conn.close()\n",
    "except Exception as e:\n",
    "    print(f\"Erro na conexão: {e}\")\n"
   ]
  },
  {
   "cell_type": "code",
   "execution_count": 2,
   "metadata": {},
   "outputs": [
    {
     "name": "stdout",
     "output_type": "stream",
     "text": [
      "Conexão bem-sucedida!\n"
     ]
    }
   ],
   "source": [
    "import psycopg2\n",
    "from dotenv import load_dotenv\n",
    "import os\n",
    "\n",
    "load_dotenv()\n",
    "\n",
    "try:\n",
    "    conn = psycopg2.connect(\n",
    "        dbname=os.getenv('DB_NAME'),\n",
    "        user=os.getenv('DB_USER'),\n",
    "        password=os.getenv('DB_PASSWORD'),\n",
    "        host=os.getenv('DB_HOST'),\n",
    "        port=os.getenv('DB_PORT')\n",
    "    )\n",
    "    print(\"Conexão bem-sucedida!\")\n",
    "    conn.close()\n",
    "except Exception as e:\n",
    "    print(f\"Erro na conexão: {e}\")\n"
   ]
  },
  {
   "cell_type": "code",
   "execution_count": 19,
   "metadata": {},
   "outputs": [],
   "source": [
    "from sqlalchemy.orm import Session\n",
    "from database import SessionLocal\n",
    "from old_files.crud import create_pessoa, create_fornecedor, create_cliente, create_funcionario, get_all_pessoas\n",
    "from datetime import date\n",
    "\n",
    "# Crie uma sessão com o banco de dados\n",
    "db = SessionLocal()\n",
    "\n",
    "# Criação de uma pessoa\n",
    "# pessoa = create_pessoa(db,id=4, nome=\"João Silva\", endereco=\"Rua A, 123\", email=\"joao@example.com\", telefone=\"123456789\", cep=\"12345-678\")\n",
    "# print(f\"Criado: {pessoa}\")\n",
    "\n",
    "pessoas_cadastradas = get_all_pessoas(db)\n",
    "\n",
    "# Feche a sessão do banco de dados\n",
    "db.close()"
   ]
  },
  {
   "cell_type": "code",
   "execution_count": 20,
   "metadata": {},
   "outputs": [
    {
     "data": {
      "text/plain": [
       "[]"
      ]
     },
     "execution_count": 20,
     "metadata": {},
     "output_type": "execute_result"
    }
   ],
   "source": [
    "pessoas_cadastradas"
   ]
  },
  {
   "cell_type": "code",
   "execution_count": null,
   "metadata": {},
   "outputs": [],
   "source": [
    "pessoas_cadastradas[0].id"
   ]
  },
  {
   "cell_type": "code",
   "execution_count": 18,
   "metadata": {},
   "outputs": [],
   "source": [
    "from sqlalchemy.orm import Session\n",
    "from database.models import Pessoa\n",
    "from database import SessionLocal\n",
    "from old_files.crud import *\n",
    "\n",
    "# Inicia a sessão\n",
    "db = SessionLocal()\n",
    "\n",
    "delete_pessoa(db, '2')\n",
    "\n",
    "# Feche a sessão do banco de dados\n",
    "db.close()\n"
   ]
  },
  {
   "cell_type": "code",
   "execution_count": null,
   "metadata": {},
   "outputs": [],
   "source": [
    "from sqlalchemy.orm import Session\n",
    "from database import SessionLocal\n",
    "from old_files.crud import create_pessoa, create_fornecedor, create_cliente, create_funcionario, get_all_pessoas\n",
    "from datetime import date\n",
    "\n",
    "# Crie uma sessão com o banco de dados\n",
    "db = SessionLocal()\n",
    "\n",
    "# Criação de uma pessoa\n",
    "pessoa = create_pessoa(db,id=4, nome=\"João Silva\", endereco=\"Rua A, 123\", email=\"joao@example.com\", telefone=\"123456789\", cep=\"12345-678\")\n",
    "print(f\"Criado: {pessoa}\")\n",
    "\n",
    "pessoas_cadastradas = get_all_pessoas(db)\n",
    "\n",
    "# Feche a sessão do banco de dados\n",
    "db.close()"
   ]
  },
  {
   "cell_type": "code",
   "execution_count": 22,
   "metadata": {},
   "outputs": [],
   "source": [
    "from controllers import cliente, fornecedor, funcionario, general, pessoas\n"
   ]
  },
  {
   "cell_type": "code",
   "execution_count": 11,
   "metadata": {},
   "outputs": [],
   "source": [
    "from controllers.estoque import *\n",
    "from controllers.catalogo import *\n",
    "from controllers.compra import *\n",
    "from database.db import engine, SessionLocal, get_db\n",
    "\n",
    "db = next(get_db())"
   ]
  },
  {
   "cell_type": "code",
   "execution_count": 40,
   "metadata": {},
   "outputs": [
    {
     "data": {
      "text/plain": [
       "<database.models.Catalogo at 0x1fa6452b410>"
      ]
     },
     "execution_count": 40,
     "metadata": {},
     "output_type": "execute_result"
    }
   ],
   "source": [
    "create_catalogo(db, \"especie7\", \"variedade2\", \"especie7 7\", \"Brasil\", \"floresta\", \"agua\", \"ornamento\")"
   ]
  },
  {
   "cell_type": "code",
   "execution_count": null,
   "metadata": {},
   "outputs": [],
   "source": [
    "create_estoque(db, \"especie1\", \"variedade1\", 5, \"1231231\", 200, 300)"
   ]
  },
  {
   "cell_type": "code",
   "execution_count": 30,
   "metadata": {},
   "outputs": [
    {
     "name": "stdout",
     "output_type": "stream",
     "text": [
      "Erro ao cadastrar produto: 'str' object has no attribute '_sa_instance_state'\n"
     ]
    }
   ],
   "source": [
    "try:\n",
    "    create_estoque(db, \"especie7\", \"variedade1\", 9, \"123123129\", 100, 150)\n",
    "    print(\"Produto cadastrado com sucesso!\")\n",
    "except Exception as e:\n",
    "    print(f\"Erro ao cadastrar produto: {str(e)}\")"
   ]
  },
  {
   "cell_type": "code",
   "execution_count": 19,
   "metadata": {},
   "outputs": [],
   "source": [
    "from controllers.estoque import *\n",
    "from controllers.catalogo import *\n",
    "from controllers.compra import *\n",
    "from database.db import engine, SessionLocal, get_db\n",
    "\n",
    "db = next(get_db())"
   ]
  },
  {
   "cell_type": "code",
   "execution_count": 20,
   "metadata": {},
   "outputs": [],
   "source": [
    "from datetime import date\n",
    "\n",
    "# Dados para o teste\n",
    "data = date(2024, 10, 1)\n",
    "fornecedor_cnpj = \"1231232\"\n",
    "quantidade = 10\n",
    "especie = \"especie1\"\n",
    "variedade = \"variedade1\"\n",
    "custo = 100\n",
    "forma_pagamento = \"Cartão de Crédito\"\n",
    "\n"
   ]
  },
  {
   "cell_type": "code",
   "execution_count": 21,
   "metadata": {},
   "outputs": [],
   "source": [
    "# Chama a função create_compra para criar a compra no banco de dados\n",
    "nova_compra = create_compra(\n",
    "    db=db,\n",
    "    data=data,\n",
    "    fornecedor_cnpj=fornecedor_cnpj,\n",
    "    quantidade=quantidade,\n",
    "    especie=especie,\n",
    "    variedade=variedade,\n",
    "    custo=custo,\n",
    "    forma_pagamento=forma_pagamento\n",
    ")"
   ]
  },
  {
   "cell_type": "code",
   "execution_count": 1,
   "metadata": {},
   "outputs": [],
   "source": [
    "from controllers.venda import *\n",
    "from controllers.carrinho import *\n",
    "from controllers.estoque import *\n",
    "from database.db import get_db\n",
    "\n",
    "db = next(get_db())\n",
    "\n",
    "\n",
    "from datetime import date\n",
    "# Dados para o teste\n",
    "data = date(2024, 10, 1)"
   ]
  },
  {
   "cell_type": "code",
   "execution_count": 3,
   "metadata": {},
   "outputs": [],
   "source": [
    "nova_venda = create_venda(db, data, \"1231231\", \"1231233\", 0, 0, 0, \"Berries\", \"Processando\")"
   ]
  },
  {
   "cell_type": "code",
   "execution_count": 2,
   "metadata": {},
   "outputs": [],
   "source": [
    "carrinho = db.query(Carrinho).filter(Carrinho.id_venda == 2).all()"
   ]
  },
  {
   "cell_type": "code",
   "execution_count": 6,
   "metadata": {},
   "outputs": [
    {
     "data": {
      "text/plain": [
       "1"
      ]
     },
     "execution_count": 6,
     "metadata": {},
     "output_type": "execute_result"
    }
   ],
   "source": [
    "carrinho[0].quantidade"
   ]
  },
  {
   "cell_type": "code",
   "execution_count": 12,
   "metadata": {},
   "outputs": [],
   "source": [
    "for i in carrinho:\n",
    "    delete_carrinho(db, i.id)"
   ]
  },
  {
   "cell_type": "code",
   "execution_count": null,
   "metadata": {},
   "outputs": [],
   "source": []
  },
  {
   "cell_type": "code",
   "execution_count": 5,
   "metadata": {},
   "outputs": [
    {
     "data": {
      "text/plain": [
       "26"
      ]
     },
     "execution_count": 5,
     "metadata": {},
     "output_type": "execute_result"
    }
   ],
   "source": [
    "nova_venda.id"
   ]
  },
  {
   "cell_type": "markdown",
   "metadata": {},
   "source": [
    "procurar por id da venda"
   ]
  },
  {
   "cell_type": "markdown",
   "metadata": {},
   "source": [
    "procurar pelo produto com especie e variedade. Funcionário e custo são pesquisados depois"
   ]
  },
  {
   "cell_type": "code",
   "execution_count": 3,
   "metadata": {},
   "outputs": [],
   "source": [
    "from database.models import Estoque"
   ]
  },
  {
   "cell_type": "code",
   "execution_count": 4,
   "metadata": {},
   "outputs": [],
   "source": [
    "amora = db.query(Estoque).filter(Estoque.especie == \"amora\", Estoque.variedade == \"preta\").all()"
   ]
  },
  {
   "cell_type": "code",
   "execution_count": 5,
   "metadata": {},
   "outputs": [
    {
     "name": "stdout",
     "output_type": "stream",
     "text": [
      "Espécie: amora\n",
      "Variedade: preta\n",
      "Quantidade: 20\n",
      "Fornecedor: 1231232\n",
      "Custo: 100\n",
      "Preço: 200\n"
     ]
    }
   ],
   "source": [
    "for item in amora:\n",
    "    print(f\"Espécie: {item.especie}\")\n",
    "    print(f\"Variedade: {item.variedade}\")\n",
    "    print(f\"Quantidade: {item.quantidade}\")\n",
    "    print(f\"Fornecedor: {item.fornecedor}\")\n",
    "    print(f\"Custo: {item.custo}\")\n",
    "    print(f\"Preço: {item.preco}\")\n"
   ]
  },
  {
   "cell_type": "code",
   "execution_count": 6,
   "metadata": {},
   "outputs": [
    {
     "ename": "PendingRollbackError",
     "evalue": "This Session's transaction has been rolled back due to a previous exception during flush. To begin a new transaction with this Session, first issue Session.rollback(). Original exception was: (psycopg2.errors.UndefinedColumn) ERRO:  não existe a coluna \"fornecedor\" da relação \"carrinho\"\nLINE 1: ...SERT INTO carrinho (id_venda, especie, variedade, fornecedor...\n                                                             ^\n\n[SQL: INSERT INTO carrinho (id_venda, especie, variedade, fornecedor, custo, quantidade) VALUES (%(id_venda)s, %(especie)s, %(variedade)s, %(fornecedor)s, %(custo)s, %(quantidade)s) RETURNING carrinho.id]\n[parameters: {'id_venda': 13, 'especie': 'amora', 'variedade': 'preta', 'fornecedor': '1231232', 'custo': '100', 'quantidade': 3}]\n(Background on this error at: https://sqlalche.me/e/20/f405) (Background on this error at: https://sqlalche.me/e/20/7s2a)",
     "output_type": "error",
     "traceback": [
      "\u001b[1;31m---------------------------------------------------------------------------\u001b[0m",
      "\u001b[1;31mPendingRollbackError\u001b[0m                      Traceback (most recent call last)",
      "Cell \u001b[1;32mIn[6], line 1\u001b[0m\n\u001b[1;32m----> 1\u001b[0m novo_produto_carrinho \u001b[38;5;241m=\u001b[39m \u001b[43mcreate_carrinho\u001b[49m\u001b[43m(\u001b[49m\u001b[43mdb\u001b[49m\u001b[43m,\u001b[49m\u001b[43m \u001b[49m\u001b[38;5;241;43m13\u001b[39;49m\u001b[43m,\u001b[49m\u001b[43m \u001b[49m\u001b[38;5;124;43m\"\u001b[39;49m\u001b[38;5;124;43mTulipa\u001b[39;49m\u001b[38;5;124;43m\"\u001b[39;49m\u001b[43m,\u001b[49m\u001b[43m \u001b[49m\u001b[38;5;124;43m\"\u001b[39;49m\u001b[38;5;124;43mazul\u001b[39;49m\u001b[38;5;124;43m\"\u001b[39;49m\u001b[43m,\u001b[49m\u001b[43m \u001b[49m\u001b[38;5;124;43m\"\u001b[39;49m\u001b[38;5;124;43m69.946.598/0001-02\u001b[39;49m\u001b[38;5;124;43m\"\u001b[39;49m\u001b[43m,\u001b[49m\u001b[43m \u001b[49m\u001b[38;5;241;43m5\u001b[39;49m\u001b[43m,\u001b[49m\u001b[43m \u001b[49m\u001b[38;5;241;43m3\u001b[39;49m\u001b[43m)\u001b[49m\n",
      "File \u001b[1;32mc:\\Users\\Victo\\Desktop\\programming\\python\\projetoBD\\DataBaseProject\\controllers\\carrinho.py:22\u001b[0m, in \u001b[0;36mcreate_carrinho\u001b[1;34m(db, id_venda, especie, variedade, fornecedor, custo, quantidade)\u001b[0m\n\u001b[0;32m     20\u001b[0m \u001b[38;5;66;03m# Adicionar o novo carrinho ao banco de dados\u001b[39;00m\n\u001b[0;32m     21\u001b[0m db\u001b[38;5;241m.\u001b[39madd(db_carrinho)\n\u001b[1;32m---> 22\u001b[0m \u001b[43mdb\u001b[49m\u001b[38;5;241;43m.\u001b[39;49m\u001b[43mcommit\u001b[49m\u001b[43m(\u001b[49m\u001b[43m)\u001b[49m\n\u001b[0;32m     23\u001b[0m db\u001b[38;5;241m.\u001b[39mrefresh(db_carrinho)  \u001b[38;5;66;03m# Atualizar o objeto com os dados salvos no banco de dados\u001b[39;00m\n\u001b[0;32m     24\u001b[0m \u001b[38;5;28;01mreturn\u001b[39;00m db_carrinho\n",
      "File \u001b[1;32mc:\\Users\\Victo\\AppData\\Local\\Programs\\Python\\Python312\\Lib\\site-packages\\sqlalchemy\\orm\\session.py:2028\u001b[0m, in \u001b[0;36mSession.commit\u001b[1;34m(self)\u001b[0m\n\u001b[0;32m   2025\u001b[0m \u001b[38;5;28;01mif\u001b[39;00m trans \u001b[38;5;129;01mis\u001b[39;00m \u001b[38;5;28;01mNone\u001b[39;00m:\n\u001b[0;32m   2026\u001b[0m     trans \u001b[38;5;241m=\u001b[39m \u001b[38;5;28mself\u001b[39m\u001b[38;5;241m.\u001b[39m_autobegin_t()\n\u001b[1;32m-> 2028\u001b[0m \u001b[43mtrans\u001b[49m\u001b[38;5;241;43m.\u001b[39;49m\u001b[43mcommit\u001b[49m\u001b[43m(\u001b[49m\u001b[43m_to_root\u001b[49m\u001b[38;5;241;43m=\u001b[39;49m\u001b[38;5;28;43;01mTrue\u001b[39;49;00m\u001b[43m)\u001b[49m\n",
      "File \u001b[1;32m<string>:2\u001b[0m, in \u001b[0;36mcommit\u001b[1;34m(self, _to_root)\u001b[0m\n",
      "File \u001b[1;32mc:\\Users\\Victo\\AppData\\Local\\Programs\\Python\\Python312\\Lib\\site-packages\\sqlalchemy\\orm\\state_changes.py:103\u001b[0m, in \u001b[0;36m_StateChange.declare_states.<locals>._go\u001b[1;34m(fn, self, *arg, **kw)\u001b[0m\n\u001b[0;32m     97\u001b[0m current_state \u001b[38;5;241m=\u001b[39m \u001b[38;5;28mself\u001b[39m\u001b[38;5;241m.\u001b[39m_state\n\u001b[0;32m     99\u001b[0m \u001b[38;5;28;01mif\u001b[39;00m (\n\u001b[0;32m    100\u001b[0m     has_prerequisite_states\n\u001b[0;32m    101\u001b[0m     \u001b[38;5;129;01mand\u001b[39;00m current_state \u001b[38;5;129;01mnot\u001b[39;00m \u001b[38;5;129;01min\u001b[39;00m prerequisite_state_collection\n\u001b[0;32m    102\u001b[0m ):\n\u001b[1;32m--> 103\u001b[0m     \u001b[38;5;28;43mself\u001b[39;49m\u001b[38;5;241;43m.\u001b[39;49m\u001b[43m_raise_for_prerequisite_state\u001b[49m\u001b[43m(\u001b[49m\u001b[43mfn\u001b[49m\u001b[38;5;241;43m.\u001b[39;49m\u001b[38;5;18;43m__name__\u001b[39;49m\u001b[43m,\u001b[49m\u001b[43m \u001b[49m\u001b[43mcurrent_state\u001b[49m\u001b[43m)\u001b[49m\n\u001b[0;32m    105\u001b[0m next_state \u001b[38;5;241m=\u001b[39m \u001b[38;5;28mself\u001b[39m\u001b[38;5;241m.\u001b[39m_next_state\n\u001b[0;32m    106\u001b[0m existing_fn \u001b[38;5;241m=\u001b[39m \u001b[38;5;28mself\u001b[39m\u001b[38;5;241m.\u001b[39m_current_fn\n",
      "File \u001b[1;32mc:\\Users\\Victo\\AppData\\Local\\Programs\\Python\\Python312\\Lib\\site-packages\\sqlalchemy\\orm\\session.py:973\u001b[0m, in \u001b[0;36mSessionTransaction._raise_for_prerequisite_state\u001b[1;34m(self, operation_name, state)\u001b[0m\n\u001b[0;32m    971\u001b[0m \u001b[38;5;28;01mif\u001b[39;00m state \u001b[38;5;129;01mis\u001b[39;00m SessionTransactionState\u001b[38;5;241m.\u001b[39mDEACTIVE:\n\u001b[0;32m    972\u001b[0m     \u001b[38;5;28;01mif\u001b[39;00m \u001b[38;5;28mself\u001b[39m\u001b[38;5;241m.\u001b[39m_rollback_exception:\n\u001b[1;32m--> 973\u001b[0m         \u001b[38;5;28;01mraise\u001b[39;00m sa_exc\u001b[38;5;241m.\u001b[39mPendingRollbackError(\n\u001b[0;32m    974\u001b[0m             \u001b[38;5;124m\"\u001b[39m\u001b[38;5;124mThis Session\u001b[39m\u001b[38;5;124m'\u001b[39m\u001b[38;5;124ms transaction has been rolled back \u001b[39m\u001b[38;5;124m\"\u001b[39m\n\u001b[0;32m    975\u001b[0m             \u001b[38;5;124m\"\u001b[39m\u001b[38;5;124mdue to a previous exception during flush.\u001b[39m\u001b[38;5;124m\"\u001b[39m\n\u001b[0;32m    976\u001b[0m             \u001b[38;5;124m\"\u001b[39m\u001b[38;5;124m To begin a new transaction with this Session, \u001b[39m\u001b[38;5;124m\"\u001b[39m\n\u001b[0;32m    977\u001b[0m             \u001b[38;5;124m\"\u001b[39m\u001b[38;5;124mfirst issue Session.rollback().\u001b[39m\u001b[38;5;124m\"\u001b[39m\n\u001b[0;32m    978\u001b[0m             \u001b[38;5;124mf\u001b[39m\u001b[38;5;124m\"\u001b[39m\u001b[38;5;124m Original exception was: \u001b[39m\u001b[38;5;132;01m{\u001b[39;00m\u001b[38;5;28mself\u001b[39m\u001b[38;5;241m.\u001b[39m_rollback_exception\u001b[38;5;132;01m}\u001b[39;00m\u001b[38;5;124m\"\u001b[39m,\n\u001b[0;32m    979\u001b[0m             code\u001b[38;5;241m=\u001b[39m\u001b[38;5;124m\"\u001b[39m\u001b[38;5;124m7s2a\u001b[39m\u001b[38;5;124m\"\u001b[39m,\n\u001b[0;32m    980\u001b[0m         )\n\u001b[0;32m    981\u001b[0m     \u001b[38;5;28;01melse\u001b[39;00m:\n\u001b[0;32m    982\u001b[0m         \u001b[38;5;28;01mraise\u001b[39;00m sa_exc\u001b[38;5;241m.\u001b[39mInvalidRequestError(\n\u001b[0;32m    983\u001b[0m             \u001b[38;5;124m\"\u001b[39m\u001b[38;5;124mThis session is in \u001b[39m\u001b[38;5;124m'\u001b[39m\u001b[38;5;124minactive\u001b[39m\u001b[38;5;124m'\u001b[39m\u001b[38;5;124m state, due to the \u001b[39m\u001b[38;5;124m\"\u001b[39m\n\u001b[0;32m    984\u001b[0m             \u001b[38;5;124m\"\u001b[39m\u001b[38;5;124mSQL transaction being rolled back; no further SQL \u001b[39m\u001b[38;5;124m\"\u001b[39m\n\u001b[0;32m    985\u001b[0m             \u001b[38;5;124m\"\u001b[39m\u001b[38;5;124mcan be emitted within this transaction.\u001b[39m\u001b[38;5;124m\"\u001b[39m\n\u001b[0;32m    986\u001b[0m         )\n",
      "\u001b[1;31mPendingRollbackError\u001b[0m: This Session's transaction has been rolled back due to a previous exception during flush. To begin a new transaction with this Session, first issue Session.rollback(). Original exception was: (psycopg2.errors.UndefinedColumn) ERRO:  não existe a coluna \"fornecedor\" da relação \"carrinho\"\nLINE 1: ...SERT INTO carrinho (id_venda, especie, variedade, fornecedor...\n                                                             ^\n\n[SQL: INSERT INTO carrinho (id_venda, especie, variedade, fornecedor, custo, quantidade) VALUES (%(id_venda)s, %(especie)s, %(variedade)s, %(fornecedor)s, %(custo)s, %(quantidade)s) RETURNING carrinho.id]\n[parameters: {'id_venda': 13, 'especie': 'amora', 'variedade': 'preta', 'fornecedor': '1231232', 'custo': '100', 'quantidade': 3}]\n(Background on this error at: https://sqlalche.me/e/20/f405) (Background on this error at: https://sqlalche.me/e/20/7s2a)"
     ]
    }
   ],
   "source": [
    "novo_produto_carrinho = create_carrinho(db, 13, \"Tulipa\", \"azul\", \"69.946.598/0001-02\", 5, 3)"
   ]
  },
  {
   "cell_type": "code",
   "execution_count": 4,
   "metadata": {},
   "outputs": [],
   "source": [
    "q_plant_available = db.query(Estoque).filter(Estoque.especie == \"especie1\", Estoque.variedade == \"variedade1\").order_by(Estoque.quantidade).first()\n"
   ]
  },
  {
   "cell_type": "code",
   "execution_count": 7,
   "metadata": {},
   "outputs": [
    {
     "data": {
      "text/plain": [
       "5"
      ]
     },
     "execution_count": 7,
     "metadata": {},
     "output_type": "execute_result"
    }
   ],
   "source": [
    "q_plant_available.quantidade"
   ]
  },
  {
   "cell_type": "code",
   "execution_count": null,
   "metadata": {},
   "outputs": [],
   "source": []
  }
 ],
 "metadata": {
  "kernelspec": {
   "display_name": "venv",
   "language": "python",
   "name": "python3"
  },
  "language_info": {
   "codemirror_mode": {
    "name": "ipython",
    "version": 3
   },
   "file_extension": ".py",
   "mimetype": "text/x-python",
   "name": "python",
   "nbconvert_exporter": "python",
   "pygments_lexer": "ipython3",
   "version": "3.12.2"
  }
 },
 "nbformat": 4,
 "nbformat_minor": 2
}
