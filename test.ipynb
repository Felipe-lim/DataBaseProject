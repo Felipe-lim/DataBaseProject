{
 "cells": [
  {
   "cell_type": "code",
   "execution_count": 1,
   "metadata": {},
   "outputs": [
    {
     "name": "stdout",
     "output_type": "stream",
     "text": [
      "postgres\n",
      "felipelima\n",
      "localhost\n",
      "5432\n",
      "clorofila_data\n"
     ]
    }
   ],
   "source": [
    "from dotenv import load_dotenv\n",
    "import os\n",
    "\n",
    "load_dotenv()\n",
    "\n",
    "# Verifique as variáveis de ambiente\n",
    "print(os.getenv('DB_USER'))\n",
    "print(os.getenv('DB_PASSWORD'))\n",
    "print(os.getenv('DB_HOST'))\n",
    "print(os.getenv('DB_PORT'))\n",
    "print(os.getenv('DB_NAME'))\n",
    "\n",
    "DATABASE_URL = f\"postgresql+psycopg2://{os.getenv('DB_USER')}:{os.getenv('DB_PASSWORD')}@{os.getenv('DB_HOST')}:{os.getenv('DB_PORT')}/{os.getenv('DB_NAME')}\""
   ]
  },
  {
   "cell_type": "code",
   "execution_count": 1,
   "metadata": {},
   "outputs": [
    {
     "name": "stdout",
     "output_type": "stream",
     "text": [
      "Conexão bem-sucedida!\n"
     ]
    }
   ],
   "source": [
    "import psycopg2\n",
    "\n",
    "try:\n",
    "    conn = psycopg2.connect(\n",
    "        dbname='clorofila_data',\n",
    "        user='postgres',\n",
    "        password='felipelima',\n",
    "        host='localhost',\n",
    "        port='5432',\n",
    "        options=\"-c client_encoding=UTF8\"\n",
    "    )\n",
    "    print(\"Conexão bem-sucedida!\")\n",
    "    conn.close()\n",
    "except Exception as e:\n",
    "    print(f\"Erro na conexão: {e}\")\n"
   ]
  },
  {
   "cell_type": "code",
   "execution_count": 2,
   "metadata": {},
   "outputs": [
    {
     "name": "stdout",
     "output_type": "stream",
     "text": [
      "Conexão bem-sucedida!\n"
     ]
    }
   ],
   "source": [
    "import psycopg2\n",
    "from dotenv import load_dotenv\n",
    "import os\n",
    "\n",
    "load_dotenv()\n",
    "\n",
    "try:\n",
    "    conn = psycopg2.connect(\n",
    "        dbname=os.getenv('DB_NAME'),\n",
    "        user=os.getenv('DB_USER'),\n",
    "        password=os.getenv('DB_PASSWORD'),\n",
    "        host=os.getenv('DB_HOST'),\n",
    "        port=os.getenv('DB_PORT')\n",
    "    )\n",
    "    print(\"Conexão bem-sucedida!\")\n",
    "    conn.close()\n",
    "except Exception as e:\n",
    "    print(f\"Erro na conexão: {e}\")\n"
   ]
  },
  {
   "cell_type": "code",
   "execution_count": 19,
   "metadata": {},
   "outputs": [],
   "source": [
    "from sqlalchemy.orm import Session\n",
    "from database import SessionLocal\n",
    "from old_files.crud import create_pessoa, create_fornecedor, create_cliente, create_funcionario, get_all_pessoas\n",
    "from datetime import date\n",
    "\n",
    "# Crie uma sessão com o banco de dados\n",
    "db = SessionLocal()\n",
    "\n",
    "# Criação de uma pessoa\n",
    "# pessoa = create_pessoa(db,id=4, nome=\"João Silva\", endereco=\"Rua A, 123\", email=\"joao@example.com\", telefone=\"123456789\", cep=\"12345-678\")\n",
    "# print(f\"Criado: {pessoa}\")\n",
    "\n",
    "pessoas_cadastradas = get_all_pessoas(db)\n",
    "\n",
    "# Feche a sessão do banco de dados\n",
    "db.close()"
   ]
  },
  {
   "cell_type": "code",
   "execution_count": 20,
   "metadata": {},
   "outputs": [
    {
     "data": {
      "text/plain": [
       "[]"
      ]
     },
     "execution_count": 20,
     "metadata": {},
     "output_type": "execute_result"
    }
   ],
   "source": [
    "pessoas_cadastradas"
   ]
  },
  {
   "cell_type": "code",
   "execution_count": null,
   "metadata": {},
   "outputs": [],
   "source": [
    "pessoas_cadastradas[0].id"
   ]
  },
  {
   "cell_type": "code",
   "execution_count": 18,
   "metadata": {},
   "outputs": [],
   "source": [
    "from sqlalchemy.orm import Session\n",
    "from database.models import Pessoa\n",
    "from database import SessionLocal\n",
    "from old_files.crud import *\n",
    "\n",
    "# Inicia a sessão\n",
    "db = SessionLocal()\n",
    "\n",
    "delete_pessoa(db, '2')\n",
    "\n",
    "# Feche a sessão do banco de dados\n",
    "db.close()\n"
   ]
  },
  {
   "cell_type": "code",
   "execution_count": null,
   "metadata": {},
   "outputs": [],
   "source": [
    "from sqlalchemy.orm import Session\n",
    "from database import SessionLocal\n",
    "from old_files.crud import create_pessoa, create_fornecedor, create_cliente, create_funcionario, get_all_pessoas\n",
    "from datetime import date\n",
    "\n",
    "# Crie uma sessão com o banco de dados\n",
    "db = SessionLocal()\n",
    "\n",
    "# Criação de uma pessoa\n",
    "pessoa = create_pessoa(db,id=4, nome=\"João Silva\", endereco=\"Rua A, 123\", email=\"joao@example.com\", telefone=\"123456789\", cep=\"12345-678\")\n",
    "print(f\"Criado: {pessoa}\")\n",
    "\n",
    "pessoas_cadastradas = get_all_pessoas(db)\n",
    "\n",
    "# Feche a sessão do banco de dados\n",
    "db.close()"
   ]
  },
  {
   "cell_type": "code",
   "execution_count": 22,
   "metadata": {},
   "outputs": [],
   "source": [
    "from controllers import cliente, fornecedor, funcionario, general, pessoas\n"
   ]
  },
  {
   "cell_type": "code",
   "execution_count": 11,
   "metadata": {},
   "outputs": [],
   "source": [
    "from controllers.estoque import *\n",
    "from controllers.catalogo import *\n",
    "from controllers.compra import *\n",
    "from database.db import engine, SessionLocal, get_db\n",
    "\n",
    "db = next(get_db())"
   ]
  },
  {
   "cell_type": "code",
   "execution_count": 40,
   "metadata": {},
   "outputs": [
    {
     "data": {
      "text/plain": [
       "<database.models.Catalogo at 0x1fa6452b410>"
      ]
     },
     "execution_count": 40,
     "metadata": {},
     "output_type": "execute_result"
    }
   ],
   "source": [
    "create_catalogo(db, \"especie7\", \"variedade2\", \"especie7 7\", \"Brasil\", \"floresta\", \"agua\", \"ornamento\")"
   ]
  },
  {
   "cell_type": "code",
   "execution_count": null,
   "metadata": {},
   "outputs": [],
   "source": [
    "create_estoque(db, \"especie1\", \"variedade1\", 5, \"1231231\", 200, 300)"
   ]
  },
  {
   "cell_type": "code",
   "execution_count": 30,
   "metadata": {},
   "outputs": [
    {
     "name": "stdout",
     "output_type": "stream",
     "text": [
      "Erro ao cadastrar produto: 'str' object has no attribute '_sa_instance_state'\n"
     ]
    }
   ],
   "source": [
    "try:\n",
    "    create_estoque(db, \"especie7\", \"variedade1\", 9, \"123123129\", 100, 150)\n",
    "    print(\"Produto cadastrado com sucesso!\")\n",
    "except Exception as e:\n",
    "    print(f\"Erro ao cadastrar produto: {str(e)}\")"
   ]
  },
  {
   "cell_type": "code",
   "execution_count": 19,
   "metadata": {},
   "outputs": [],
   "source": [
    "from controllers.estoque import *\n",
    "from controllers.catalogo import *\n",
    "from controllers.compra import *\n",
    "from database.db import engine, SessionLocal, get_db\n",
    "\n",
    "db = next(get_db())"
   ]
  },
  {
   "cell_type": "code",
   "execution_count": 20,
   "metadata": {},
   "outputs": [],
   "source": [
    "from datetime import date\n",
    "\n",
    "# Dados para o teste\n",
    "data = date(2024, 10, 1)\n",
    "fornecedor_cnpj = \"1231232\"\n",
    "quantidade = 10\n",
    "especie = \"especie1\"\n",
    "variedade = \"variedade1\"\n",
    "custo = 100\n",
    "forma_pagamento = \"Cartão de Crédito\"\n",
    "\n"
   ]
  },
  {
   "cell_type": "code",
   "execution_count": 21,
   "metadata": {},
   "outputs": [],
   "source": [
    "# Chama a função create_compra para criar a compra no banco de dados\n",
    "nova_compra = create_compra(\n",
    "    db=db,\n",
    "    data=data,\n",
    "    fornecedor_cnpj=fornecedor_cnpj,\n",
    "    quantidade=quantidade,\n",
    "    especie=especie,\n",
    "    variedade=variedade,\n",
    "    custo=custo,\n",
    "    forma_pagamento=forma_pagamento\n",
    ")"
   ]
  }
 ],
 "metadata": {
  "kernelspec": {
   "display_name": "venv",
   "language": "python",
   "name": "python3"
  },
  "language_info": {
   "codemirror_mode": {
    "name": "ipython",
    "version": 3
   },
   "file_extension": ".py",
   "mimetype": "text/x-python",
   "name": "python",
   "nbconvert_exporter": "python",
   "pygments_lexer": "ipython3",
   "version": "3.12.0"
  }
 },
 "nbformat": 4,
 "nbformat_minor": 2
}
